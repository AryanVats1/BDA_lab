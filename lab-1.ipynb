{
 "cells": [
  {
   "cell_type": "code",
   "execution_count": 4,
   "metadata": {},
   "outputs": [
    {
     "name": "stderr",
     "output_type": "stream",
     "text": [
      "/home/lplab/anaconda3/lib/python3.7/site-packages/pyspark/context.py:317: FutureWarning: Python 3.7 support is deprecated in Spark 3.4.\n",
      "  warnings.warn(\"Python 3.7 support is deprecated in Spark 3.4.\", FutureWarning)\n"
     ]
    },
    {
     "name": "stdout",
     "output_type": "stream",
     "text": [
      "+------+-------+\n",
      "|Number|Squared|\n",
      "+------+-------+\n",
      "|     1|    1.0|\n",
      "|     2|    4.0|\n",
      "|     3|    9.0|\n",
      "|     4|   16.0|\n",
      "|     5|   25.0|\n",
      "+------+-------+\n",
      "\n"
     ]
    }
   ],
   "source": [
    "from pyspark.sql import SparkSession\n",
    "from pyspark.sql.functions import col, expr\n",
    "spark = SparkSession.builder.appName(\"SquareIntegers\").getOrCreate()\n",
    "data = [(1,), (2,), (3,), (4,), (5,)]\n",
    "columns = [\"Number\"]\n",
    "df = spark.createDataFrame(data, columns)\n",
    "def square_function(number):\n",
    "    return number ** 2\n",
    "spark.udf.register(\"square_udf\", square_function)\n",
    "result_df = df.withColumn(\"Squared\", col(\"Number\").cast(\"double\")).withColumn(\"Squared\", expr(\"square_udf(Squared)\"))\n",
    "result_df.show()\n",
    "df2=spark.sql(\"select \")\n",
    "spark.stop()"
   ]
  },
  {
   "cell_type": "code",
   "execution_count": 5,
   "metadata": {},
   "outputs": [
    {
     "name": "stderr",
     "output_type": "stream",
     "text": [
      "/home/lplab/anaconda3/lib/python3.7/site-packages/pyspark/context.py:317: FutureWarning: Python 3.7 support is deprecated in Spark 3.4.\n",
      "  warnings.warn(\"Python 3.7 support is deprecated in Spark 3.4.\", FutureWarning)\n"
     ]
    },
    {
     "name": "stdout",
     "output_type": "stream",
     "text": [
      "Maximum number: 30\n"
     ]
    }
   ],
   "source": [
    "from pyspark.sql import SparkSession\n",
    "from pyspark.sql.functions import col, max\n",
    "spark = SparkSession.builder.appName(\"MaxNumber\").getOrCreate()\n",
    "data = [(10,), (25,), (15,), (30,), (20,)]\n",
    "columns = [\"Number\"]\n",
    "df = spark.createDataFrame(data, columns)\n",
    "max_value = df.agg(max(\"Number\").alias(\"MaxNumber\")).collect()[0][\"MaxNumber\"]\n",
    "print(\"Maximum number:\", max_value)\n",
    "spark.stop()"
   ]
  },
  {
   "cell_type": "code",
   "execution_count": 6,
   "metadata": {},
   "outputs": [
    {
     "name": "stderr",
     "output_type": "stream",
     "text": [
      "/home/lplab/anaconda3/lib/python3.7/site-packages/pyspark/context.py:317: FutureWarning: Python 3.7 support is deprecated in Spark 3.4.\n",
      "  warnings.warn(\"Python 3.7 support is deprecated in Spark 3.4.\", FutureWarning)\n"
     ]
    },
    {
     "name": "stdout",
     "output_type": "stream",
     "text": [
      "Average number: 20.0\n"
     ]
    }
   ],
   "source": [
    "from pyspark.sql import SparkSession\n",
    "from pyspark.sql.functions import col, avg\n",
    "spark = SparkSession.builder.appName(\"AverageNumbers\").getOrCreate()\n",
    "data = [(10,), (25,), (15,), (30,), (20,)]\n",
    "columns = [\"Number\"]\n",
    "df = spark.createDataFrame(data, columns)\n",
    "average_value = df.agg(avg(\"Number\").alias(\"AverageNumber\")).collect()[0][\"AverageNumber\"]\n",
    "print(\"Average number:\", average_value)\n",
    "spark.stop()"
   ]
  },
  {
   "cell_type": "code",
   "execution_count": 7,
   "metadata": {},
   "outputs": [
    {
     "name": "stderr",
     "output_type": "stream",
     "text": [
      "/home/lplab/anaconda3/lib/python3.7/site-packages/pyspark/context.py:317: FutureWarning: Python 3.7 support is deprecated in Spark 3.4.\n",
      "  warnings.warn(\"Python 3.7 support is deprecated in Spark 3.4.\", FutureWarning)\n"
     ]
    },
    {
     "name": "stdout",
     "output_type": "stream",
     "text": [
      "+-----+------+\n",
      "|Month|Volume|\n",
      "+-----+------+\n",
      "|  Jan|     5|\n",
      "|  Feb|     6|\n",
      "|  Mar|     7|\n",
      "|  Apr|     5|\n",
      "|  May|     6|\n",
      "|  Jun|     9|\n",
      "|  Jul|     0|\n",
      "|  Aug|     7|\n",
      "|  Sep|     4|\n",
      "|  Oct|     3|\n",
      "|  Nov|     1|\n",
      "|  Dec|     2|\n",
      "+-----+------+\n",
      "\n"
     ]
    }
   ],
   "source": [
    "from pyspark.sql import SparkSession\n",
    "spark = SparkSession.builder.appName(\"ReadCSV\").getOrCreate()\n",
    "csv_file_path = \"./data.csv\"\n",
    "df = spark.read.csv(csv_file_path, header=True, inferSchema=True)\n",
    "df.show()\n",
    "spark.stop()"
   ]
  },
  {
   "cell_type": "code",
   "execution_count": 8,
   "metadata": {},
   "outputs": [
    {
     "name": "stderr",
     "output_type": "stream",
     "text": [
      "/home/lplab/anaconda3/lib/python3.7/site-packages/pyspark/context.py:317: FutureWarning: Python 3.7 support is deprecated in Spark 3.4.\n",
      "  warnings.warn(\"Python 3.7 support is deprecated in Spark 3.4.\", FutureWarning)\n"
     ]
    },
    {
     "name": "stdout",
     "output_type": "stream",
     "text": [
      "First few rows:\n",
      "+-----+------+\n",
      "|Month|Volume|\n",
      "+-----+------+\n",
      "|  Jan|     5|\n",
      "|  Feb|     6|\n",
      "|  Mar|     7|\n",
      "|  Apr|     5|\n",
      "|  May|     6|\n",
      "|  Jun|     9|\n",
      "|  Jul|     0|\n",
      "|  Aug|     7|\n",
      "|  Sep|     4|\n",
      "|  Oct|     3|\n",
      "|  Nov|     1|\n",
      "|  Dec|     2|\n",
      "+-----+------+\n",
      "\n",
      "Schema:\n",
      "root\n",
      " |-- Month: string (nullable = true)\n",
      " |-- Volume: integer (nullable = true)\n",
      "\n"
     ]
    }
   ],
   "source": [
    "from pyspark.sql import SparkSession\n",
    "spark = SparkSession.builder.appName(\"DisplayDataFrame\").getOrCreate()\n",
    "df = spark.read.csv(\"./data.csv\", header=True, inferSchema=True)\n",
    "print(\"First few rows:\")\n",
    "df.show()\n",
    "print(\"Schema:\")\n",
    "df.printSchema()\n",
    "spark.stop()"
   ]
  },
  {
   "cell_type": "code",
   "execution_count": 10,
   "metadata": {
    "scrolled": true
   },
   "outputs": [
    {
     "name": "stderr",
     "output_type": "stream",
     "text": [
      "/home/lplab/anaconda3/lib/python3.7/site-packages/pyspark/context.py:317: FutureWarning: Python 3.7 support is deprecated in Spark 3.4.\n",
      "  warnings.warn(\"Python 3.7 support is deprecated in Spark 3.4.\", FutureWarning)\n"
     ]
    },
    {
     "name": "stdout",
     "output_type": "stream",
     "text": [
      "+-------+-----+-----------------+\n",
      "|summary|Month|           Volume|\n",
      "+-------+-----+-----------------+\n",
      "|  count|   12|               12|\n",
      "|   mean| null|4.583333333333333|\n",
      "| stddev| null|2.678477631835372|\n",
      "|    min|  Apr|                0|\n",
      "|    max|  Sep|                9|\n",
      "+-------+-----+-----------------+\n",
      "\n"
     ]
    }
   ],
   "source": [
    "from pyspark.sql import SparkSession\n",
    "spark = SparkSession.builder.appName(\"ColumnSummaryStats\").getOrCreate()\n",
    "df = spark.read.csv(\"./data.csv\", header=True, inferSchema=True)\n",
    "column_summary = df.describe()\n",
    "column_summary.show()\n",
    "spark.stop()"
   ]
  },
  {
   "cell_type": "code",
   "execution_count": null,
   "metadata": {},
   "outputs": [],
   "source": []
  },
  {
   "cell_type": "code",
   "execution_count": 20,
   "metadata": {},
   "outputs": [
    {
     "name": "stdout",
     "output_type": "stream",
     "text": [
      "+------+-------+\n",
      "|Number|squared|\n",
      "+------+-------+\n",
      "|     1|      1|\n",
      "|     2|      4|\n",
      "|     3|      9|\n",
      "|     4|     16|\n",
      "|     5|     25|\n",
      "+------+-------+\n",
      "\n"
     ]
    }
   ],
   "source": [
    "from pyspark.sql import SparkSession\n",
    "from pyspark.sql.functions import col, expr\n",
    "spark = SparkSession.builder.appName(\"SquareIntegers\").getOrCreate()\n",
    "data = [(1,), (2,), (3,), (4,), (5,)]\n",
    "columns = [\"Number\"]\n",
    "df = spark.createDataFrame(data, columns)\n",
    "df.createOrReplaceTempView(\"NUMS\")\n",
    "df2 = spark.sql(\"SELECT Number,Number*Number as squared from NUMS\")\n",
    "\n",
    "df2.show()"
   ]
  },
  {
   "cell_type": "code",
   "execution_count": 21,
   "metadata": {},
   "outputs": [
    {
     "name": "stdout",
     "output_type": "stream",
     "text": [
      "+------+\n",
      "|Number|\n",
      "+------+\n",
      "|     1|\n",
      "|     2|\n",
      "|     3|\n",
      "|     4|\n",
      "|     5|\n",
      "+------+\n",
      "\n",
      "+-------+\n",
      "|maximum|\n",
      "+-------+\n",
      "|      5|\n",
      "+-------+\n",
      "\n"
     ]
    }
   ],
   "source": [
    "from pyspark.sql import SparkSession\n",
    "from pyspark.sql.functions import col, expr\n",
    "spark = SparkSession.builder.appName(\"SquareIntegers\").getOrCreate()\n",
    "data = [(1,), (2,), (3,), (4,), (5,)]\n",
    "columns = [\"Number\"]\n",
    "df = spark.createDataFrame(data, columns)\n",
    "df.createOrReplaceTempView(\"NUMS\")\n",
    "df2 = spark.sql(\"SELECT  MAX(Number) as maximum from NUMS\")\n",
    "df.show()\n",
    "df2.show()"
   ]
  },
  {
   "cell_type": "code",
   "execution_count": 22,
   "metadata": {},
   "outputs": [
    {
     "name": "stdout",
     "output_type": "stream",
     "text": [
      "+------+\n",
      "|Number|\n",
      "+------+\n",
      "|     1|\n",
      "|     2|\n",
      "|     3|\n",
      "|     4|\n",
      "|     5|\n",
      "+------+\n",
      "\n",
      "+-------+\n",
      "|average|\n",
      "+-------+\n",
      "|    3.0|\n",
      "+-------+\n",
      "\n"
     ]
    }
   ],
   "source": [
    "from pyspark.sql import SparkSession\n",
    "from pyspark.sql.functions import col, expr\n",
    "spark = SparkSession.builder.appName(\"SquareIntegers\").getOrCreate()\n",
    "data = [(1,), (2,), (3,), (4,), (5,)]\n",
    "columns = [\"Number\"]\n",
    "df = spark.createDataFrame(data, columns)\n",
    "df.createOrReplaceTempView(\"NUMS\")\n",
    "df2 = spark.sql(\"SELECT  AVG(Number) as average from NUMS\")\n",
    "df.show()\n",
    "df2.show()"
   ]
  },
  {
   "cell_type": "code",
   "execution_count": 23,
   "metadata": {},
   "outputs": [
    {
     "name": "stdout",
     "output_type": "stream",
     "text": [
      "+-----+------+\n",
      "|Month|Volume|\n",
      "+-----+------+\n",
      "|  Jan|     5|\n",
      "|  Feb|     6|\n",
      "|  Mar|     7|\n",
      "|  Apr|     5|\n",
      "|  May|     6|\n",
      "|  Jun|     9|\n",
      "|  Jul|     0|\n",
      "|  Aug|     7|\n",
      "|  Sep|     4|\n",
      "|  Oct|     3|\n",
      "|  Nov|     1|\n",
      "|  Dec|     2|\n",
      "+-----+------+\n",
      "\n"
     ]
    }
   ],
   "source": [
    "from pyspark.sql import SparkSession\n",
    "spark = SparkSession.builder.appName(\"ReadCSV\").getOrCreate()\n",
    "csv_file_path = \"./data.csv\"\n",
    "df = spark.read.csv(csv_file_path, header=True, inferSchema=True)\n",
    "df.show()\n",
    "spark.stop()"
   ]
  },
  {
   "cell_type": "code",
   "execution_count": 24,
   "metadata": {},
   "outputs": [
    {
     "name": "stderr",
     "output_type": "stream",
     "text": [
      "/home/lplab/anaconda3/lib/python3.7/site-packages/pyspark/context.py:317: FutureWarning: Python 3.7 support is deprecated in Spark 3.4.\n",
      "  warnings.warn(\"Python 3.7 support is deprecated in Spark 3.4.\", FutureWarning)\n"
     ]
    },
    {
     "name": "stdout",
     "output_type": "stream",
     "text": [
      "First few rows:\n",
      "+-----+------+\n",
      "|Month|Volume|\n",
      "+-----+------+\n",
      "|  Jan|     5|\n",
      "|  Feb|     6|\n",
      "|  Mar|     7|\n",
      "|  Apr|     5|\n",
      "|  May|     6|\n",
      "|  Jun|     9|\n",
      "|  Jul|     0|\n",
      "|  Aug|     7|\n",
      "|  Sep|     4|\n",
      "|  Oct|     3|\n",
      "|  Nov|     1|\n",
      "|  Dec|     2|\n",
      "+-----+------+\n",
      "\n",
      "Schema:\n",
      "root\n",
      " |-- Month: string (nullable = true)\n",
      " |-- Volume: integer (nullable = true)\n",
      "\n"
     ]
    }
   ],
   "source": [
    "from pyspark.sql import SparkSession\n",
    "spark = SparkSession.builder.appName(\"DisplayDataFrame\").getOrCreate()\n",
    "df = spark.read.csv(\"./data.csv\", header=True, inferSchema=True)\n",
    "print(\"First few rows:\")\n",
    "df.show()\n",
    "print(\"Schema:\")\n",
    "df.printSchema()\n",
    "spark.stop()"
   ]
  },
  {
   "cell_type": "code",
   "execution_count": 25,
   "metadata": {},
   "outputs": [
    {
     "name": "stderr",
     "output_type": "stream",
     "text": [
      "/home/lplab/anaconda3/lib/python3.7/site-packages/pyspark/context.py:317: FutureWarning: Python 3.7 support is deprecated in Spark 3.4.\n",
      "  warnings.warn(\"Python 3.7 support is deprecated in Spark 3.4.\", FutureWarning)\n"
     ]
    },
    {
     "name": "stdout",
     "output_type": "stream",
     "text": [
      "+-------+-----+-----------------+\n",
      "|summary|Month|           Volume|\n",
      "+-------+-----+-----------------+\n",
      "|  count|   12|               12|\n",
      "|   mean| null|4.583333333333333|\n",
      "| stddev| null|2.678477631835372|\n",
      "|    min|  Apr|                0|\n",
      "|    max|  Sep|                9|\n",
      "+-------+-----+-----------------+\n",
      "\n"
     ]
    }
   ],
   "source": [
    "from pyspark.sql import SparkSession\n",
    "spark = SparkSession.builder.appName(\"ColumnSummaryStats\").getOrCreate()\n",
    "df = spark.read.csv(\"./data.csv\", header=True, inferSchema=True)\n",
    "column_summary = df.describe()\n",
    "column_summary.show()\n",
    "spark.stop()"
   ]
  },
  {
   "cell_type": "code",
   "execution_count": null,
   "metadata": {},
   "outputs": [],
   "source": []
  }
 ],
 "metadata": {
  "kernelspec": {
   "display_name": "Python 3",
   "language": "python",
   "name": "python3"
  },
  "language_info": {
   "codemirror_mode": {
    "name": "ipython",
    "version": 3
   },
   "file_extension": ".py",
   "mimetype": "text/x-python",
   "name": "python",
   "nbconvert_exporter": "python",
   "pygments_lexer": "ipython3",
   "version": "3.7.0"
  }
 },
 "nbformat": 4,
 "nbformat_minor": 2
}
