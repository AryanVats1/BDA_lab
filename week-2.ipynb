{
 "cells": [
  {
   "cell_type": "code",
   "execution_count": 51,
   "id": "32a79cfc",
   "metadata": {},
   "outputs": [
    {
     "name": "stdout",
     "output_type": "stream",
     "text": [
      "+---+------+\n",
      "|age|  name|\n",
      "+---+------+\n",
      "|  5|   Bob|\n",
      "|  7|Dwight|\n",
      "+---+------+\n",
      "\n"
     ]
    }
   ],
   "source": [
    "from pyspark.sql import SparkSession\n",
    "from pyspark.sql.functions import col, expr,avg,sum\n",
    "import pyspark\n",
    "spark = SparkSession.builder.appName(\"SquareIntegers\").getOrCreate()\n",
    "\n",
    "df = spark.createDataFrame([\n",
    "\n",
    "    (2, \"Alice\"), (5, \"Bob\"),(7,\"Dwight\")], schema=[\"age\", \"name\"])\n",
    "df.filter(df.age > 3).show()"
   ]
  },
  {
   "cell_type": "code",
   "execution_count": 52,
   "id": "3de91cf1",
   "metadata": {},
   "outputs": [
    {
     "name": "stdout",
     "output_type": "stream",
     "text": [
      "+---+------+----+\n",
      "|age|  name|age2|\n",
      "+---+------+----+\n",
      "|  2| Alice|   4|\n",
      "|  5|   Bob|   7|\n",
      "|  7|Dwight|   9|\n",
      "+---+------+----+\n",
      "\n"
     ]
    }
   ],
   "source": [
    "df1=df.withColumn('age2', df.age + 2).show()"
   ]
  },
  {
   "cell_type": "code",
   "execution_count": 53,
   "id": "7d2ac632",
   "metadata": {},
   "outputs": [
    {
     "name": "stdout",
     "output_type": "stream",
     "text": [
      "+---+------+\n",
      "|age|  name|\n",
      "+---+------+\n",
      "|  2| Alice|\n",
      "|  5|   Bob|\n",
      "|  7|Dwight|\n",
      "+---+------+\n",
      "\n"
     ]
    }
   ],
   "source": [
    "df.show()"
   ]
  },
  {
   "cell_type": "code",
   "execution_count": 54,
   "id": "994ca901",
   "metadata": {},
   "outputs": [
    {
     "name": "stdout",
     "output_type": "stream",
     "text": [
      "number of rows: 3\n"
     ]
    }
   ],
   "source": [
    "print(\"number of rows:\",df.count())"
   ]
  },
  {
   "cell_type": "code",
   "execution_count": 55,
   "id": "96e0c4f5",
   "metadata": {},
   "outputs": [
    {
     "name": "stdout",
     "output_type": "stream",
     "text": [
      "average age is 4.666666666666667\n"
     ]
    }
   ],
   "source": [
    "average_value = df.agg(avg(\"age\").alias(\"AverageAge\")).collect()[0][\"AverageAge\"]\n",
    "print(\"average age is\",average_value)"
   ]
  },
  {
   "cell_type": "code",
   "execution_count": 56,
   "id": "6f511825",
   "metadata": {},
   "outputs": [
    {
     "name": "stdout",
     "output_type": "stream",
     "text": [
      "summation of age is 14\n"
     ]
    }
   ],
   "source": [
    "sum_value = df.agg(sum(\"age\").alias(\"AverageAge\")).collect()[0][\"AverageAge\"]\n",
    "print(\"summation of age is\",sum_value)"
   ]
  },
  {
   "cell_type": "code",
   "execution_count": 41,
   "id": "c91c0198",
   "metadata": {},
   "outputs": [],
   "source": [
    "df.repartition(1).write.format('com.databricks.spark.csv').save(\"./sample.csv\",header = 'true')"
   ]
  },
  {
   "cell_type": "code",
   "execution_count": 50,
   "id": "93358d92",
   "metadata": {},
   "outputs": [
    {
     "name": "stdout",
     "output_type": "stream",
     "text": [
      "this : 2\n",
      "sample : 1\n",
      "file. : 2\n",
      "We : 1\n",
      "to : 1\n",
      "number : 1\n",
      "of : 2\n",
      "occurences : 1\n",
      "word : 1\n",
      "hello, : 1\n",
      "is : 1\n",
      "a : 1\n",
      "need : 1\n",
      "count : 1\n",
      "the : 1\n",
      "each : 1\n",
      "in : 1\n"
     ]
    }
   ],
   "source": [
    "from pyspark import SparkContext,SparkConf\n",
    "import os\n",
    "sc=SparkContext.getOrCreate(SparkConf().setMaster(\"local[*]\"))\n",
    "text_file = sc.textFile(\"tex.txt\")\n",
    "counts = text_file.flatMap(lambda line: line.split(\" \")) \\\n",
    "                            .map(lambda word: (word, 1)) \\\n",
    "                           .reduceByKey(lambda x, y: x + y)\n",
    "output=counts.collect()\n",
    "for(word,count) in output:\n",
    "    print(\"%s : %i\"%(word,count))"
   ]
  },
  {
   "cell_type": "code",
   "execution_count": null,
   "id": "8301378a",
   "metadata": {},
   "outputs": [],
   "source": []
  }
 ],
 "metadata": {
  "kernelspec": {
   "display_name": "Python 3 (ipykernel)",
   "language": "python",
   "name": "python3"
  },
  "language_info": {
   "codemirror_mode": {
    "name": "ipython",
    "version": 3
   },
   "file_extension": ".py",
   "mimetype": "text/x-python",
   "name": "python",
   "nbconvert_exporter": "python",
   "pygments_lexer": "ipython3",
   "version": "3.11.5"
  }
 },
 "nbformat": 4,
 "nbformat_minor": 5
}
